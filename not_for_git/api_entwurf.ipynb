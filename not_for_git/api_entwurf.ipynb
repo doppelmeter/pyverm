{
 "cells": [
  {
   "cell_type": "markdown",
   "metadata": {},
   "source": [
    "# PyVerm API Entwurf"
   ]
  },
  {
   "cell_type": "markdown",
   "metadata": {},
   "source": [
    "## Station auf Punkt"
   ]
  },
  {
   "cell_type": "code",
   "execution_count": null,
   "metadata": {},
   "outputs": [],
   "source": [
    "import pyverm\n",
    "\n",
    "p100 = pyverm.Point(2600000.000, 1200000.000, 500.00)\n",
    "p132 = pyverm.Point(2600456.000, 1200780.000, 505.00)\n",
    "p155 = pyverm.Point(2602354.000, 1202541.000, 515.00)\n",
    "\n",
    "station_p100 = pyverm.Station(standpoint=p100)\n",
    "station_p100.add_target(p132, 132.4567, 600.00)\n",
    "station_p100.add_target(p155, direction=199.4727, distance=895.06)\n",
    "station_p100.add_target((2600453.2, 1202541.25), 310.0000, 1200.48)\n",
    "station_p100.abriss(report=True)  #report=True -> Protokolliert berechnung im Protokoll\n",
    "print(station_p100.orientierung)"
   ]
  },
  {
   "cell_type": "markdown",
   "metadata": {},
   "source": [
    "## Freie Station"
   ]
  },
  {
   "cell_type": "code",
   "execution_count": null,
   "metadata": {},
   "outputs": [],
   "source": [
    "import pyverm\n",
    "\n",
    "point_db = pyverm.PointDatabase()\n",
    "point_db.add_point(100, 2600000.000, 1200000.000, 500.00)\n",
    "point_db.add_point(number=132, y=2600456.000, x=1200780.000, z=505.00)\n",
    "point_db.add_point(number=155, 2602354.000, 1202541.000, 515.00)\n",
    "\n",
    "station_p999 = pyverm.Station()\n",
    "station_p999.add_target(point_db[100], 132.4567, 600.00)\n",
    "station_p999.add_target(point_db[\"132\"], direction=199.4727, distance=895.06)\n",
    "station_p999.add_target(point_db.155, 199.4727, 895.06)\n",
    "station_p999.add_target((2600453.2, 1202541.25), 310.0000, 1200.48)\n",
    "station_p999.free_station(report=True)  #report=True -> Protokolliert berechnung im Protokoll\n",
    "print(station_p999.standpoint)\n",
    "print(station_p999.standpoint)"
   ]
  },
  {
   "cell_type": "markdown",
   "metadata": {},
   "source": [
    "## Point DB"
   ]
  },
  {
   "cell_type": "code",
   "execution_count": null,
   "metadata": {},
   "outputs": [],
   "source": [
    "import pyverm\n",
    "\n",
    "point_db = pyverm.PointDatabase()\n",
    "\n",
    "point_db.from_csv(\"punkte.csv\")  #punkte importieren\n",
    "\n",
    "point_db.add_point(100, 2600000.000, 1200000.000, 500.00)\n",
    "point_db.add_point(number=132, y=2600456.000, x=1200780.000, z=505.00)\n",
    "point_db.add_point(number=155, 2602354.000, 1202541.000, 515.00)\n",
    "\n",
    "point_db.delete(\"gp1\")\n",
    "\n",
    "point_db.to_koo(\"punkte.koo\")  #punkte exportieren\n"
   ]
  },
  {
   "cell_type": "markdown",
   "metadata": {},
   "source": [
    "## Report"
   ]
  },
  {
   "cell_type": "code",
   "execution_count": null,
   "metadata": {},
   "outputs": [],
   "source": [
    "import pyverm\n",
    "\n",
    "pyverm.report.clear()  # leert Protokolldatei\n",
    "\n",
    "print(pyverm.report)  # druckt protokolldatei\n",
    "\n",
    "pyverm.report.save(\"berechnungen.txt\")  #speichert protokolldatei\n"
   ]
  }
 ],
 "metadata": {
  "kernelspec": {
   "display_name": "Python 3",
   "language": "python",
   "name": "python3"
  },
  "language_info": {
   "codemirror_mode": {
    "name": "ipython",
    "version": 3
   },
   "file_extension": ".py",
   "mimetype": "text/x-python",
   "name": "python",
   "nbconvert_exporter": "python",
   "pygments_lexer": "ipython3",
   "version": "3.6.6"
  }
 },
 "nbformat": 4,
 "nbformat_minor": 2
}
